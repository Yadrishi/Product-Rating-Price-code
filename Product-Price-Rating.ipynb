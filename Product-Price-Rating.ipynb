{
 "cells": [
  {
   "cell_type": "code",
   "execution_count": 3,
   "id": "b694f929",
   "metadata": {},
   "outputs": [
    {
     "name": "stdout",
     "output_type": "stream",
     "text": [
      "Product \t\"CLEAR CLEAN ESN\" Sprint EPIC 4G Galaxy SPH-D700*FRONT CAMERA*ANDROID*SLIDER*QWERTY KEYBOARD*TOUCH SCREEN\n",
      "Price:  199.99\n",
      "Rating:  5\n"
     ]
    }
   ],
   "source": [
    "import pandas as pd\n",
    "import csv\n",
    "import statistics\n",
    "database = pd.read_csv(\"Mobile_Amazon.csv\")\n",
    "pro = input(\"Product \\t\")\n",
    "index = (database[database['Product Name']==pro].index.values)\n",
    "Price = database['Price'][index]\n",
    "print(\"Price: \", max(Price))\n",
    "Rating = database['Rating'][index]\n",
    "print(\"Rating: \" ,(statistics.mode(Rating)))"
   ]
  },
  {
   "cell_type": "code",
   "execution_count": null,
   "id": "33d146fd",
   "metadata": {},
   "outputs": [],
   "source": []
  }
 ],
 "metadata": {
  "kernelspec": {
   "display_name": "Python 3 (ipykernel)",
   "language": "python",
   "name": "python3"
  },
  "language_info": {
   "codemirror_mode": {
    "name": "ipython",
    "version": 3
   },
   "file_extension": ".py",
   "mimetype": "text/x-python",
   "name": "python",
   "nbconvert_exporter": "python",
   "pygments_lexer": "ipython3",
   "version": "3.9.7"
  }
 },
 "nbformat": 4,
 "nbformat_minor": 5
}
